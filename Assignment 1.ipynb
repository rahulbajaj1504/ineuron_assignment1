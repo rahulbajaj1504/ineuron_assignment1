{
 "cells": [
  {
   "cell_type": "markdown",
   "metadata": {},
   "source": [
    "# Assignment 1"
   ]
  },
  {
   "cell_type": "markdown",
   "metadata": {},
   "source": [
    "# Task 1"
   ]
  },
  {
   "cell_type": "markdown",
   "metadata": {},
   "source": [
    "## Problem 1 :\n",
    "Install Jupyter notebook and run the first program and share the screenshot of the output."
   ]
  },
  {
   "cell_type": "code",
   "execution_count": 1,
   "metadata": {},
   "outputs": [
    {
     "name": "stdout",
     "output_type": "stream",
     "text": [
      "hello world\n"
     ]
    }
   ],
   "source": [
    "print(\"hello world\")"
   ]
  },
  {
   "cell_type": "markdown",
   "metadata": {},
   "source": [
    "## Problem 2\n",
    "Write a program which will find all such numbers which are divisible by 7 but are not a multiple of 5, between 2000 and 3200 (both included). The numbers obtained should be printed in a comma-separated sequence on a single line."
   ]
  },
  {
   "cell_type": "code",
   "execution_count": 2,
   "metadata": {},
   "outputs": [
    {
     "name": "stdout",
     "output_type": "stream",
     "text": [
      "2002, 2009, 2016, 2023, 2031, 2037, 2044, 2051, 2058, 2066, 2072, 2079, 2086, 2093, 2101, 2107, 2114, 2121, 2128, 2136, 2142, 2149, 2156, 2163, 2171, 2177, 2184, 2191, 2198, 2206, 2212, 2219, 2226, 2233, 2241, 2247, 2254, 2261, 2268, 2276, 2282, 2289, 2296, 2303, 2311, 2317, 2324, 2331, 2338, 2346, 2352, 2359, 2366, 2373, 2381, 2387, 2394, 2401, 2408, 2416, 2422, 2429, 2436, 2443, 2451, 2457, 2464, 2471, 2478, 2486, 2492, 2499, 2506, 2513, 2521, 2527, 2534, 2541, 2548, 2556, 2562, 2569, 2576, 2583, 2591, 2597, 2604, 2611, 2618, 2626, 2632, 2639, 2646, 2653, 2661, 2667, 2674, 2681, 2688, 2696, 2702, 2709, 2716, 2723, 2731, 2737, 2744, 2751, 2758, 2766, 2772, 2779, 2786, 2793, 2801, 2807, 2814, 2821, 2828, 2836, 2842, 2849, 2856, 2863, 2871, 2877, 2884, 2891, 2898, 2906, 2912, 2919, 2926, 2933, 2941, 2947, 2954, 2961, 2968, 2976, 2982, 2989, 2996, 3003, 3011, 3017, 3024, 3031, 3038, 3046, 3052, 3059, 3066, 3073, 3081, 3087, 3094, 3101, 3108, 3116, 3122, 3129, 3136, 3143, 3151, 3157, 3164, 3171, 3178, 3186, 3192, 3199, "
     ]
    }
   ],
   "source": [
    "for i in range(2000,3201):\n",
    "    while i%7==0:\n",
    "        if i%5==0:\n",
    "            i+=1\n",
    "        print(i,end=\", \")\n",
    "        i+=1\n",
    "            \n",
    "    "
   ]
  },
  {
   "cell_type": "markdown",
   "metadata": {},
   "source": [
    "## Problem 3\n",
    "Write a Python program to accept the user's first and last name and then getting them printed in the the reverse order with a space between first name and last name."
   ]
  },
  {
   "cell_type": "code",
   "execution_count": 3,
   "metadata": {},
   "outputs": [
    {
     "name": "stdout",
     "output_type": "stream",
     "text": [
      "enter first name:rahul\n",
      "enter last name:bajaj\n",
      "luhar jajab\n"
     ]
    }
   ],
   "source": [
    "x = input(\"enter first name:\")\n",
    "y = input(\"enter last name:\")\n",
    "x = x[::-1]    #reversing a string\n",
    "y = y[::-1]\n",
    "print(x,y)     #if you want last name at initial positon do print(y,x)"
   ]
  },
  {
   "cell_type": "markdown",
   "metadata": {},
   "source": [
    "## Problem 4\n",
    "Write a Python program to find the volume of a sphere with diameter 12 cm.  \n",
    "Formula: V=4/3 * π * r 3"
   ]
  },
  {
   "cell_type": "code",
   "execution_count": 4,
   "metadata": {},
   "outputs": [
    {
     "name": "stdout",
     "output_type": "stream",
     "text": [
      "volume of the sphere is 7234.5599999999995\n"
     ]
    }
   ],
   "source": [
    "def volume(num):\n",
    "    pi=3.14\n",
    "    print(\"volume of the sphere is {}\".format((4/3)*pi*(num**3)))\n",
    "volume(12)"
   ]
  },
  {
   "cell_type": "markdown",
   "metadata": {},
   "source": [
    "# Task 2"
   ]
  },
  {
   "cell_type": "markdown",
   "metadata": {},
   "source": [
    "## Problem 1\n",
    "Write a program which accepts a sequence of comma-separated numbers from console and generate a list."
   ]
  },
  {
   "cell_type": "code",
   "execution_count": 13,
   "metadata": {},
   "outputs": [
    {
     "name": "stdout",
     "output_type": "stream",
     "text": [
      "enter values:1,2,3,4\n",
      "['1,2,3,4']\n"
     ]
    }
   ],
   "source": [
    "a = input(\"enter values:\")\n",
    "list1=[]\n",
    "list1.append(a)\n",
    "print(list1)"
   ]
  },
  {
   "cell_type": "markdown",
   "metadata": {},
   "source": [
    "entering numbers from console"
   ]
  },
  {
   "cell_type": "code",
   "execution_count": 7,
   "metadata": {},
   "outputs": [
    {
     "name": "stdout",
     "output_type": "stream",
     "text": [
      "[1, 2, 3, 4]\n"
     ]
    }
   ],
   "source": [
    "a = 1,2,3,4\n",
    "b=[]\n",
    "for i in a:\n",
    "    b.append(i)\n",
    "print(b)"
   ]
  },
  {
   "cell_type": "markdown",
   "metadata": {},
   "source": [
    "directly doing without a console"
   ]
  },
  {
   "cell_type": "markdown",
   "metadata": {},
   "source": [
    "## Problem 2\n",
    "Create the below pattern using nested for loop in Python.  "
   ]
  },
  {
   "cell_type": "code",
   "execution_count": 8,
   "metadata": {},
   "outputs": [
    {
     "name": "stdout",
     "output_type": "stream",
     "text": [
      "* \n",
      "* * \n",
      "* * * \n",
      "* * * * \n",
      "* * * * * \n",
      "* * * * \n",
      "* * * \n",
      "* * \n",
      "* \n"
     ]
    }
   ],
   "source": [
    "for i in range(5):\n",
    "    for j in range(i+1):\n",
    "        print(\"*\",end=\" \")\n",
    "    print()\n",
    "for i in range(4):\n",
    "    for j in range(4-i):\n",
    "        print(\"*\",end=\" \")\n",
    "    print()"
   ]
  },
  {
   "cell_type": "markdown",
   "metadata": {},
   "source": [
    "## Problem 3\n",
    "Write a Python program to reverse a word after accepting the input from the user. \n",
    " \n",
    "Sample Output: \n",
    " \n",
    "Input word: AcadGild \n",
    " \n",
    "Output: dilGdacA"
   ]
  },
  {
   "cell_type": "code",
   "execution_count": 9,
   "metadata": {},
   "outputs": [
    {
     "name": "stdout",
     "output_type": "stream",
     "text": [
      "enter the string:i am doing good\n",
      "doog gniod ma i\n"
     ]
    }
   ],
   "source": [
    "x = input(\"enter the string:\")\n",
    "x = x[::-1]\n",
    "print(x)"
   ]
  },
  {
   "cell_type": "markdown",
   "metadata": {},
   "source": [
    "## Problem 4\n",
    "Write a Python Program to print the given string in the format specified in the ​sample output. \n",
    " WE, THE PEOPLE OF INDIA, having solemnly resolved to constitute India into a \n",
    " SOVEREIGN, SOCIALIST, SECULAR, DEMOCRATIC REPUBLIC and to secure to all \n",
    " its citizens \n",
    " \n",
    "Sample Output: \n",
    " \n",
    "WE, THE PEOPLE OF INDIA,   \n",
    "    having solemnly resolved to constitute India into a SOVEREIGN, !  \n",
    "        SOCIALIST, SECULAR, DEMOCRATIC REPUBLIC    \n",
    "        and to secure to all its citizens"
   ]
  },
  {
   "cell_type": "code",
   "execution_count": 10,
   "metadata": {},
   "outputs": [
    {
     "name": "stdout",
     "output_type": "stream",
     "text": [
      "WE, THE PEOPLE OF INDIA, \n",
      "\thaving solemnly resolved to constitute India into a SOVEREIGN, \n",
      "\t\tSOCIALIST, SECULAR, DEMOCRATIC REPUBLIC \n",
      "\t\tand to secure to all its citizens\n"
     ]
    }
   ],
   "source": [
    "print(\"WE, THE PEOPLE OF INDIA, \\n\\thaving solemnly resolved to constitute India into a SOVEREIGN, \\n\\t\\tSOCIALIST, SECULAR, DEMOCRATIC REPUBLIC \\n\\t\\tand to secure to all its citizens\")"
   ]
  }
 ],
 "metadata": {
  "kernelspec": {
   "display_name": "Python 3",
   "language": "python",
   "name": "python3"
  },
  "language_info": {
   "codemirror_mode": {
    "name": "ipython",
    "version": 3
   },
   "file_extension": ".py",
   "mimetype": "text/x-python",
   "name": "python",
   "nbconvert_exporter": "python",
   "pygments_lexer": "ipython3",
   "version": "3.7.6"
  }
 },
 "nbformat": 4,
 "nbformat_minor": 4
}
